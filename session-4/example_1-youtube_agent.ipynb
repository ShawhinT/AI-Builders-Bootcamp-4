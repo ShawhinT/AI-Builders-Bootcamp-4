{
 "cells": [
  {
   "cell_type": "markdown",
   "id": "34d5143b-d5b4-4788-befb-50da4c3f3f97",
   "metadata": {},
   "source": [
    "# YouTube Agent with OpenAI Agents SDK\n",
    "## ABB #4 - Session 4\n",
    "\n",
    "Code authored by: Shaw Talebi"
   ]
  },
  {
   "cell_type": "markdown",
   "id": "e23470da-9b3e-44a8-b18a-4ccc8f5ba32a",
   "metadata": {},
   "source": [
    "### imports"
   ]
  },
  {
   "cell_type": "code",
   "execution_count": 1,
   "id": "e7514679-c195-4bf9-bad3-0f7a26a0d3d2",
   "metadata": {},
   "outputs": [],
   "source": [
    "from youtube_transcript_api import YouTubeTranscriptApi\n",
    "import re\n",
    "from agents import Agent, function_tool, Runner, ItemHelpers, RunContextWrapper\n",
    "from openai.types.responses import ResponseTextDeltaEvent\n",
    "from dotenv import load_dotenv\n",
    "import asyncio"
   ]
  },
  {
   "cell_type": "code",
   "execution_count": 2,
   "id": "777be3cb-f501-45c1-a97d-064bbc73b454",
   "metadata": {},
   "outputs": [
    {
     "data": {
      "text/plain": [
       "True"
      ]
     },
     "execution_count": 2,
     "metadata": {},
     "output_type": "execute_result"
    }
   ],
   "source": [
    "# import environment variables from .env file\n",
    "load_dotenv()"
   ]
  },
  {
   "cell_type": "markdown",
   "id": "98cbe3d3-a590-45eb-be46-52791873b23f",
   "metadata": {},
   "source": [
    "### define instructions"
   ]
  },
  {
   "cell_type": "code",
   "execution_count": 3,
   "id": "d50a5039-d46a-4cbb-90a0-22999a164df7",
   "metadata": {},
   "outputs": [],
   "source": [
    "instructions = \"You provide help with tasks related to YouTube videos.\""
   ]
  },
  {
   "cell_type": "markdown",
   "id": "8cb81b6f-aa66-425c-b1a9-d099f0c82c45",
   "metadata": {},
   "source": [
    "### define tool"
   ]
  },
  {
   "cell_type": "code",
   "execution_count": 4,
   "id": "d186d1d6-2950-4cec-8bda-d44321dbbf0c",
   "metadata": {},
   "outputs": [],
   "source": [
    "@function_tool\n",
    "def fetch_youtube_transcript(url: str) -> str:\n",
    "    \"\"\"\n",
    "    Extract transcript with timestamps from a YouTube video URL and format it for LLM consumption\n",
    "    \n",
    "    Args:\n",
    "        url (str): YouTube video URL\n",
    "        \n",
    "    Returns:\n",
    "        str: Formatted transcript with timestamps, where each entry is on a new line\n",
    "             in the format: \"[MM:SS] Text\"\n",
    "    \"\"\"\n",
    "    # Extract video ID from URL\n",
    "    video_id_pattern = r'(?:v=|\\/)([0-9A-Za-z_-]{11}).*'\n",
    "    video_id_match = re.search(video_id_pattern, url)\n",
    "    \n",
    "    if not video_id_match:\n",
    "        raise ValueError(\"Invalid YouTube URL\")\n",
    "    \n",
    "    video_id = video_id_match.group(1)\n",
    "    \n",
    "    try:\n",
    "        transcript = YouTubeTranscriptApi.get_transcript(video_id)\n",
    "        \n",
    "        # Format each entry with timestamp and text\n",
    "        formatted_entries = []\n",
    "        for entry in transcript:\n",
    "            # Convert seconds to MM:SS format\n",
    "            minutes = int(entry['start'] // 60)\n",
    "            seconds = int(entry['start'] % 60)\n",
    "            timestamp = f\"[{minutes:02d}:{seconds:02d}]\"\n",
    "            \n",
    "            formatted_entry = f\"{timestamp} {entry['text']}\"\n",
    "            formatted_entries.append(formatted_entry)\n",
    "        \n",
    "        # Join all entries with newlines\n",
    "        return \"\\n\".join(formatted_entries)\n",
    "    \n",
    "    except Exception as e:\n",
    "        raise Exception(f\"Error fetching transcript: {str(e)}\")"
   ]
  },
  {
   "cell_type": "markdown",
   "id": "b4e213b4-c41b-4dc8-9213-c79ae13b2108",
   "metadata": {},
   "source": [
    "### create agent"
   ]
  },
  {
   "cell_type": "code",
   "execution_count": 5,
   "id": "67a0ce90-c098-44e9-a823-182e71576bcb",
   "metadata": {},
   "outputs": [],
   "source": [
    "agent = Agent(\n",
    "    name=\"YouTube Transcript Agent\",\n",
    "    instructions=instructions,\n",
    "    tools=[fetch_youtube_transcript],\n",
    ")"
   ]
  },
  {
   "cell_type": "markdown",
   "id": "dcae7380-3e0d-4846-8fff-abb2d462bdb8",
   "metadata": {},
   "source": [
    "### main() function"
   ]
  },
  {
   "cell_type": "code",
   "execution_count": 6,
   "id": "b86d9958-aeeb-49cd-9270-6b53b6929aa3",
   "metadata": {},
   "outputs": [],
   "source": [
    "async def main():\n",
    "    input_items = []\n",
    "\n",
    "    print(\"=== YouTube Transcript Agent ===\")\n",
    "    print(\"Type 'exit' to end the conversation\")\n",
    "    print(\"Ask me anything about YouTube videos!\")\n",
    "\n",
    "    while True:\n",
    "        # Get user input\n",
    "        user_input = input(\"\\nYou: \").strip()\n",
    "        input_items.append({\"content\": user_input, \"role\": \"user\"})\n",
    "        \n",
    "        # Check for exit command\n",
    "        if user_input.lower() in ['exit', 'quit', 'bye']:\n",
    "            print(\"\\nGoodbye!\")\n",
    "            break\n",
    "            \n",
    "        if not user_input:\n",
    "            continue\n",
    "\n",
    "        print(\"\\nAgent: \", end=\"\", flush=True)\n",
    "        result = Runner.run_streamed(\n",
    "            agent,\n",
    "            input=input_items,\n",
    "        )\n",
    "\n",
    "        async for event in result.stream_events(): # not all events are available at outset, hence the async\n",
    "            # We'll ignore the raw responses event deltas\n",
    "            if event.type == \"raw_response_event\" and isinstance(event.data, ResponseTextDeltaEvent):\n",
    "                print(event.data.delta, end=\"\", flush=True)\n",
    "            elif event.type == \"agent_updated_stream_event\":\n",
    "                continue\n",
    "            elif event.type == \"run_item_stream_event\":\n",
    "                if event.item.type == \"tool_call_item\":\n",
    "                    print(\"\\n-- Fetching transcript...\")\n",
    "                elif event.item.type == \"tool_call_output_item\":\n",
    "                    input_items.append({\"content\": f\"Transcript:\\n{event.item.output}\", \"role\": \"system\"})\n",
    "                    print(\"-- Transcript fetched.\")\n",
    "                elif event.item.type == \"message_output_item\":\n",
    "                    input_items.append({\"content\": f\"{event.item.raw_item}\", \"role\": \"assistant\"})\n",
    "                else:\n",
    "                    pass  # Ignore other event types\n",
    "\n",
    "        print(\"\\n\")  # Add a newline after each response"
   ]
  },
  {
   "cell_type": "code",
   "execution_count": 7,
   "id": "28d78925-f897-43dd-8497-87760fa01983",
   "metadata": {},
   "outputs": [
    {
     "name": "stdout",
     "output_type": "stream",
     "text": [
      "=== YouTube Transcript Agent ===\n",
      "Type 'exit' to end the conversation\n",
      "Ask me anything about YouTube videos!\n"
     ]
    },
    {
     "name": "stdin",
     "output_type": "stream",
     "text": [
      "\n",
      "You:  What is this video about? https://youtu.be/ZaY5_ScmiFE\n"
     ]
    },
    {
     "name": "stdout",
     "output_type": "stream",
     "text": [
      "\n",
      "Agent: \n",
      "-- Fetching transcript...\n",
      "-- Transcript fetched.\n",
      "The video is an introduction to a series on AI agents, presented by Shaw. It explores what AI agents are, their importance, and the differing definitions from leading organizations like OpenAI, Hugging Face, and Anthropic. The discussion includes:\n",
      "\n",
      "1. **Key Features of AI Agents**:\n",
      "   - Use of Large Language Models (LLMs).\n",
      "   - Tool utilization (web search, code execution).\n",
      "   - Autonomy and reasoning capabilities.\n",
      "\n",
      "2. **Types of Agentic Systems**:\n",
      "   - Level 1: LLMs with tools.\n",
      "   - Level 2: LLM workflows with predefined steps.\n",
      "   - Level 3: LLM in a feedback loop for real-world tasks.\n",
      "\n",
      "3. **Design Patterns**:\n",
      "   - Chaining, routing, parallelization, orchestrator-worker models, evaluator-optimizer loops.\n",
      "\n",
      "4. **Value of AI Agents**: \n",
      "   - They interact with real-world data, improving over basic chatbots.\n",
      "   - Test-time compute scaling enhances their response quality.\n",
      "\n",
      "5. **Future Videos**:\n",
      "   - The series will include building concrete examples of agentic systems.\n",
      "\n",
      "The video stresses the growing importance and potential of AI agents beyond traditional bots or chat-based models.\n",
      "\n"
     ]
    },
    {
     "name": "stdin",
     "output_type": "stream",
     "text": [
      "\n",
      "You:  Can you create timestamps for this video?\n"
     ]
    },
    {
     "name": "stdout",
     "output_type": "stream",
     "text": [
      "\n",
      "Agent: Certainly! Here are the timestamps for the video:\n",
      "\n",
      "1. **Introduction** - 00:00\n",
      "2. **What is an AI Agent?** - 00:05\n",
      "3. **Definitions by Organizations** - 00:36\n",
      "   - OpenAI - 00:41\n",
      "   - Hugging Face - 00:51\n",
      "   - Anthropic - 01:24\n",
      "4. **Key Features of AI Agents** - 01:58\n",
      "   - Use of LLMs - 02:10\n",
      "   - Tool Usage - 02:35\n",
      "   - Autonomy - 02:55\n",
      "5. **Importance of AI Agents** - 03:36\n",
      "6. **AI Agents vs. Chatbots** - 04:22\n",
      "7. **Levels of Agentic Systems** - 06:36\n",
      "   - Level 1: LLM + Tools - 06:54\n",
      "   - Level 2: LLM Workflows - 11:01\n",
      "   - Level 3: LLM in a Loop - 19:06\n",
      "8. **Design Patterns in AI Agents** - 13:22\n",
      "   - Chaining - 14:12\n",
      "   - Routing - 14:44\n",
      "   - Parallelization - 15:05\n",
      "   - Orchestrator-Workers - 16:43\n",
      "   - Evaluator-Optimizer - 17:59\n",
      "9. **Future Series and Conclusion** - 22:52\n",
      "\n",
      "Let me know if you need further details!\n",
      "\n"
     ]
    },
    {
     "name": "stdin",
     "output_type": "stream",
     "text": [
      "\n",
      "You:  Can you simplify? I only want 5-7 chapters/\n"
     ]
    },
    {
     "name": "stdout",
     "output_type": "stream",
     "text": [
      "\n",
      "Agent: Here's a simplified version with fewer chapters:\n",
      "\n",
      "1. **Introduction to AI Agents** - 00:00\n",
      "2. **Definitions and Key Features** - 00:36\n",
      "3. **Importance and Use Cases** - 03:36\n",
      "4. **AI Agents vs. Chatbots** - 04:22\n",
      "5. **Levels of Agentic Systems** - 06:36\n",
      "6. **Design Patterns** - 13:22\n",
      "7. **Conclusion and Future Videos** - 22:52\n",
      "\n",
      "Let me know if this works for you!\n",
      "\n"
     ]
    },
    {
     "name": "stdin",
     "output_type": "stream",
     "text": [
      "\n",
      "You:  exit\n"
     ]
    },
    {
     "name": "stdout",
     "output_type": "stream",
     "text": [
      "\n",
      "Goodbye!\n"
     ]
    }
   ],
   "source": [
    "await main()\n",
    "# try this video: https://youtu.be/ZaY5_ScmiFE"
   ]
  }
 ],
 "metadata": {
  "kernelspec": {
   "display_name": "Python 3 (ipykernel)",
   "language": "python",
   "name": "python3"
  },
  "language_info": {
   "codemirror_mode": {
    "name": "ipython",
    "version": 3
   },
   "file_extension": ".py",
   "mimetype": "text/x-python",
   "name": "python",
   "nbconvert_exporter": "python",
   "pygments_lexer": "ipython3",
   "version": "3.12.10"
  }
 },
 "nbformat": 4,
 "nbformat_minor": 5
}
