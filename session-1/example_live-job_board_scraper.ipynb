{
 "cells": [
  {
   "cell_type": "markdown",
   "id": "64d54c5e-0d51-478a-badd-5d914fe02842",
   "metadata": {},
   "source": [
    "# Scraping AI Job Board\n",
    "\n",
    "Code authored by: Shaw Talebi"
   ]
  },
  {
   "cell_type": "markdown",
   "id": "3b446dfd-72d2-4b77-bf50-0dd06e3cba3c",
   "metadata": {},
   "source": [
    "### imports"
   ]
  },
  {
   "cell_type": "code",
   "execution_count": 8,
   "id": "46768766-cdc1-4ed1-b6ca-2d550f4c05cf",
   "metadata": {},
   "outputs": [],
   "source": [
    "import requests\n",
    "from bs4 import BeautifulSoup\n",
    "import json\n",
    "import csv"
   ]
  },
  {
   "cell_type": "markdown",
   "id": "e466b489-6db0-477a-bb28-2e4c54a6672b",
   "metadata": {},
   "source": [
    "### request html page"
   ]
  },
  {
   "cell_type": "code",
   "execution_count": 2,
   "id": "a80c83f2-ea3b-4420-9c1e-980916485f6d",
   "metadata": {},
   "outputs": [],
   "source": [
    "base_url = \"https://aijobs.net\"\n",
    "\n",
    "# Send a request to the page\n",
    "response = requests.get(base_url)\n",
    "soup = BeautifulSoup(response.text, 'html.parser')"
   ]
  },
  {
   "cell_type": "code",
   "execution_count": 3,
   "id": "92e9fb68-171c-4e62-86fe-ae3af604744c",
   "metadata": {
    "scrolled": true
   },
   "outputs": [],
   "source": [
    "# Find all job links inside <a> tags with hrefs that start with /job/\n",
    "job_links = []\n",
    "for a in soup.select('li.list-group-item a.col'):\n",
    "    href = a.get('href')\n",
    "    if href and href.startswith('/job/'):\n",
    "        job_links.append(href)\n",
    "\n",
    "# Optional: add base URL if needed\n",
    "full_links = [base_url + link for link in job_links]"
   ]
  },
  {
   "cell_type": "code",
   "execution_count": 4,
   "id": "aa714355-149b-4c73-8ded-27ab3de0a8b0",
   "metadata": {},
   "outputs": [
    {
     "data": {
      "text/plain": [
       "['https://aijobs.net/job/1066507-senior-ai-engineer/',\n",
       " 'https://aijobs.net/job/1142271-data-engineering-expert-for-power-management/',\n",
       " 'https://aijobs.net/job/1142270-principal-software-qa-engineer-systems-test/',\n",
       " 'https://aijobs.net/job/1142269-research-scientist-of-geosciences-attribute-assisted-seismic-processing-interpretation/',\n",
       " 'https://aijobs.net/job/1142268-senior-software-engineer/',\n",
       " 'https://aijobs.net/job/1142267-field-geomechanics-ii/',\n",
       " 'https://aijobs.net/job/1142266-bangalore-sap-basis-technology-consultant-migrationconversion-2-to-15-years-btp-ds/',\n",
       " 'https://aijobs.net/job/1142265-pre-doctoral-technical-associate-johan-chu/',\n",
       " 'https://aijobs.net/job/1142264-application-engineer-internship-fm/',\n",
       " 'https://aijobs.net/job/1142263-research-fellow-diagnostic-imaging-felix-lab/',\n",
       " 'https://aijobs.net/job/1142262-lead-software-engineer/',\n",
       " 'https://aijobs.net/job/1142261-data-co-op/',\n",
       " 'https://aijobs.net/job/1142260-business-inteligence-developer-mf/',\n",
       " 'https://aijobs.net/job/1142259-sr-analytics-manager-full-time-remote/',\n",
       " 'https://aijobs.net/job/1142258-statistical-analyst/',\n",
       " 'https://aijobs.net/job/1142257-lead-analytics-reporting/',\n",
       " 'https://aijobs.net/job/1142256-analytics-associate/',\n",
       " 'https://aijobs.net/job/1142255-senior-pricing-actuary-retail-pricing-excellence-80-100/',\n",
       " 'https://aijobs.net/job/1142254-sales-intelligence-analyst/',\n",
       " 'https://aijobs.net/job/1142253-power-market-analyst/',\n",
       " 'https://aijobs.net/job/1142252-research-scientist-central-applied-science/',\n",
       " 'https://aijobs.net/job/1142251-senior-silicon-validation-engineer-google-cloud/',\n",
       " 'https://aijobs.net/job/1142245-sap-labs-mexico-intern-latin-americamd-office/',\n",
       " 'https://aijobs.net/job/1142244-ai-copywriters-zr-21730-job/',\n",
       " 'https://aijobs.net/job/1142242-data-science-engineer/',\n",
       " 'https://aijobs.net/job/1142241-portfolio-pricing-internship/',\n",
       " 'https://aijobs.net/job/1142240-credit-risk-analyst/',\n",
       " 'https://aijobs.net/job/1142239-apprenticeship-sap-knowledge-graphs-product-engineer-fm/',\n",
       " 'https://aijobs.net/job/1142238-product-owner-demand-planning/',\n",
       " 'https://aijobs.net/job/1142237-customer-experience-analyst-lead-customer-support/',\n",
       " 'https://aijobs.net/job/1142236-business-support-engineer/',\n",
       " 'https://aijobs.net/job/1142235-head-clinical-data-enablement-data-aggregation/',\n",
       " 'https://aijobs.net/job/1142234-associate-manager-plant-qa/',\n",
       " 'https://aijobs.net/job/1142233-sr-rd-engineer-mechatronics/',\n",
       " 'https://aijobs.net/job/1142232-data-consultant/',\n",
       " 'https://aijobs.net/job/1142220-ingenieure-fiabilite/',\n",
       " 'https://aijobs.net/job/1142219-ingenieur-developpement-logiciel-hf/',\n",
       " 'https://aijobs.net/job/1142218-founding-engineer-ai/',\n",
       " 'https://aijobs.net/job/1142217-senior-data-analyst/',\n",
       " 'https://aijobs.net/job/1142216-research-intern-microsoft-teams-cmd-labs/',\n",
       " 'https://aijobs.net/job/1142215-senior-rd-measurement-engineer/',\n",
       " 'https://aijobs.net/job/1142214-data-center-systems-engineer/',\n",
       " 'https://aijobs.net/job/1142210-alt-data-scientist-de-lutte-contre-le-blanchiment-et-le-financement-du-terrorisme-lcbf-hf/',\n",
       " 'https://aijobs.net/job/1142208-data-driven-grid-model-engineer/',\n",
       " 'https://aijobs.net/job/1142207-alternance-sap-knowledge-graphs-et-ingenieur-produit-fh/',\n",
       " 'https://aijobs.net/job/1142206-senior-business-technology-analyst/',\n",
       " 'https://aijobs.net/job/1142205-digital-solution-area-specialist/',\n",
       " 'https://aijobs.net/job/1142204-sap-btp-datasphere-ixp-thesis-student-product-manager/',\n",
       " 'https://aijobs.net/job/1142203-principal-engineer/',\n",
       " 'https://aijobs.net/job/1142202-staff-software-engineer-tpu-performance/']"
      ]
     },
     "execution_count": 4,
     "metadata": {},
     "output_type": "execute_result"
    }
   ],
   "source": [
    "full_links"
   ]
  },
  {
   "cell_type": "markdown",
   "id": "07898bba-c3c8-4c53-9a49-0353cbd41e32",
   "metadata": {},
   "source": [
    "### Extract job details from urls"
   ]
  },
  {
   "cell_type": "code",
   "execution_count": 5,
   "id": "e0d1ceaa-fde2-48d1-a06d-5fdeab6a5049",
   "metadata": {},
   "outputs": [
    {
     "name": "stdout",
     "output_type": "stream",
     "text": [
      "https://aijobs.net/job/1142266-bangalore-sap-basis-technology-consultant-migrationconversion-2-to-15-years-btp-ds/\n",
      "https://aijobs.net/job/1142253-power-market-analyst/\n",
      "https://aijobs.net/job/1142220-ingenieure-fiabilite/\n",
      "https://aijobs.net/job/1142206-senior-business-technology-analyst/\n"
     ]
    }
   ],
   "source": [
    "job_info_list = []\n",
    "for link in full_links:\n",
    "    # Send a request to the page\n",
    "    response = requests.get(link)\n",
    "    soup = BeautifulSoup(response.text, 'html.parser')\n",
    "    \n",
    "    # Find the embedded JSON-LD script\n",
    "    json_ld_script = soup.find(\"script\", type=\"application/ld+json\")\n",
    "    try:\n",
    "        job_data = json.loads(json_ld_script.string)\n",
    "    except:\n",
    "        print(link)\n",
    "    \n",
    "    # Store extracted fields in a dictionary\n",
    "    job_info = {\n",
    "        \"title\": job_data.get(\"title\"),\n",
    "        \"company\": job_data.get(\"hiringOrganization\", {}).get(\"name\"),\n",
    "        \"location\": job_data.get(\"jobLocation\", {}).get(\"address\", {}).get(\"addressLocality\"),\n",
    "        \"salary_min\": job_data.get(\"baseSalary\", {}).get(\"value\", {}).get(\"minValue\"),\n",
    "        \"salary_max\": job_data.get(\"baseSalary\", {}).get(\"value\", {}).get(\"maxValue\"),\n",
    "        \"salary_currency\": job_data.get(\"baseSalary\", {}).get(\"currency\"),\n",
    "        \"description\": job_data.get(\"description\")\n",
    "    }\n",
    "\n",
    "    job_info_list.append(job_info)"
   ]
  },
  {
   "cell_type": "code",
   "execution_count": 6,
   "id": "66384c4e-2947-4551-98ba-7424000ce80a",
   "metadata": {},
   "outputs": [
    {
     "data": {
      "text/plain": [
       "{'title': 'Staff Software Engineer, TPU Performance',\n",
       " 'company': 'Google',\n",
       " 'location': 'Sunnyvale, CA, USA',\n",
       " 'salary_min': 197000,\n",
       " 'salary_max': 291000,\n",
       " 'salary_currency': 'USD',\n",
       " 'description': 'Minimum qualifications: Bachelor&#x27;s degree or equivalent practical experience. 8 years of experience testing, and launching software products. 5 years of experience with software development in one or more programming languages (e.g., Python, C, C++). Experience in performance analysis including system architecture, performance modeling, benchmarking, machine learning infrastructure, or other similar experience. Preferred qualifications: Master’s degree or PhD in Engineering, Computer Science, or a related technical field. 3 years of experience working in an organization including technical leadership, leading project teams, and setting technical direction. Experience with accelerator hardware architectures (e.g., TPUs, GPUs). Experience with ML performance modeling, optimizations, and similar. Knowledge or experience on LLM or ML framework and compiler. About the jobGoogle&#x27;s software engineers develop the next-generation technologies that change how billions of users connect, explore, and interact with information and one another. Our products need to handle information at massive scale, and extend well beyond web search. We&#x27;re looking for engineers who bring fresh ideas from all areas, including information retrieval, distributed computing, large-scale system design, networking and data storage, security, artificial intelligence, natural language processing, UI design and mobile; the list goes on and is growing every day. As a software engineer, you will work on a specific project critical to Google’s needs with opportunities to switch teams and projects as you and our fast-paced business grow and evolve. We need our engineers to be versatile, display leadership qualities and be enthusiastic to take on new problems across the full-stack as we continue to push technology forward. In this role, you will be collaborating with TPU compiler team, TPU hardware designers, and Google-Deepmind ML researchers to drive ML system hardware and software co-design and optimizations as well as the underlying simulator technologies.Google Cloud accelerates every organization’s ability to digitally transform its business and industry. We deliver enterprise-grade solutions that leverage Google’s cutting-edge technology, and tools that help developers build more sustainably. Customers in more than 200 countries and territories turn to Google Cloud as their trusted partner to enable growth and solve their most critical business problems.The US base salary range for this full-time position is $197,000-$291,000 + bonus + equity + benefits. Our salary ranges are determined by role, level, and location. Within the range, individual pay is determined by work location and additional factors, including job-related skills, experience, and relevant education or training. Your recruiter can share more about the specific salary range for your preferred location during the hiring process.Please note that the compensation details listed in US role postings reflect the base salary only, and do not include bonus, equity, or benefits. Learn more about benefits at Google.Responsibilities Explore and define future ML accelerator system and chip architecture with objective and data-driven analysis. Enable the cost effective peak performance of future ML systems with full stack ML hardware and software co-design. Establish knowledge on business-critical production ML models (e.g., Large-language models, large embedding models, etc.) to inform optimizations of model architecture, software systems, and hardware architecture. Develop Simulator technologies to keep up with evolving new system architecture choices and new ML workloads as well as supporting simulations at different abstraction levels. '}"
      ]
     },
     "execution_count": 6,
     "metadata": {},
     "output_type": "execute_result"
    }
   ],
   "source": [
    "job_info"
   ]
  },
  {
   "cell_type": "markdown",
   "id": "e54ee6f5-08f1-4059-ae5a-8fd18bd4ee65",
   "metadata": {},
   "source": [
    "### write to .csv"
   ]
  },
  {
   "cell_type": "code",
   "execution_count": 12,
   "id": "89c853fc-a346-4d80-95b8-208bcf908643",
   "metadata": {},
   "outputs": [
    {
     "name": "stdout",
     "output_type": "stream",
     "text": [
      "Saved 51 job(s) to job_listings.csv\n"
     ]
    }
   ],
   "source": [
    "# Define the CSV file name\n",
    "output_file = \"job_listings.csv\"\n",
    "\n",
    "# Write to CSV\n",
    "with open(output_file, mode=\"w\", newline=\"\", encoding=\"utf-8\") as f:\n",
    "    writer = csv.DictWriter(f, fieldnames=job_info_list[0].keys())\n",
    "    writer.writeheader()\n",
    "    writer.writerows(job_info_list)\n",
    "\n",
    "print(f\"Saved {len(job_info_list)} job(s) to {output_file}\")"
   ]
  },
  {
   "cell_type": "code",
   "execution_count": null,
   "id": "3e1489e6-b1be-4aff-b301-1c2d992d30d7",
   "metadata": {},
   "outputs": [],
   "source": []
  }
 ],
 "metadata": {
  "kernelspec": {
   "display_name": "Python 3 (ipykernel)",
   "language": "python",
   "name": "python3"
  },
  "language_info": {
   "codemirror_mode": {
    "name": "ipython",
    "version": 3
   },
   "file_extension": ".py",
   "mimetype": "text/x-python",
   "name": "python",
   "nbconvert_exporter": "python",
   "pygments_lexer": "ipython3",
   "version": "3.12.2"
  }
 },
 "nbformat": 4,
 "nbformat_minor": 5
}
