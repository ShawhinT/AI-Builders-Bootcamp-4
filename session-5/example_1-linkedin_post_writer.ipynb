{
 "cells": [
  {
   "cell_type": "markdown",
   "id": "11c076dd-4e32-431c-9793-e0784197e3d1",
   "metadata": {},
   "source": [
    "# Fine-tuning GPT-4o to Write LinkedIn Posts (in my style)\n",
    "## ABB #4 - Session 5\n",
    "\n",
    "Code authored by: Shaw Talebi"
   ]
  },
  {
   "cell_type": "markdown",
   "id": "7c7812b7-9bb9-47da-8116-f6af553e18c5",
   "metadata": {},
   "source": [
    "### imports"
   ]
  },
  {
   "cell_type": "code",
   "execution_count": 1,
   "id": "8369ae91-d925-4ed1-9a85-32fb8e64a153",
   "metadata": {},
   "outputs": [],
   "source": [
    "import os\n",
    "import csv\n",
    "import json\n",
    "import random\n",
    "\n",
    "from openai import OpenAI\n",
    "from dotenv import load_dotenv"
   ]
  },
  {
   "cell_type": "code",
   "execution_count": 2,
   "id": "7f67fe3b-4926-4ece-b3d7-7e77fbf73a28",
   "metadata": {},
   "outputs": [],
   "source": [
    "# import sk from .env file\n",
    "load_dotenv()\n",
    "\n",
    "# connect to openai API\n",
    "client = OpenAI(api_key=os.getenv(\"OPENAI_API_KEY\"))"
   ]
  },
  {
   "cell_type": "markdown",
   "id": "b67b2a2d-75c7-4913-b603-93127ece77fc",
   "metadata": {},
   "source": [
    "### Read data"
   ]
  },
  {
   "cell_type": "code",
   "execution_count": 3,
   "id": "4bc4f088-1331-4de4-a252-c60210479042",
   "metadata": {},
   "outputs": [],
   "source": [
    "# load csv of YouTube comments\n",
    "idea_list = []\n",
    "copy_list = []\n",
    "media_list = []\n",
    "\n",
    "with open('data/LI_posts.csv', mode ='r') as file:\n",
    "    file = csv.reader(file)\n",
    "    \n",
    "    # read file line by line\n",
    "    for line in file:\n",
    "        # skip first line\n",
    "        if line[0]=='Idea':\n",
    "            continue\n",
    "            \n",
    "        # append comments and responses to respective lists\n",
    "        idea_list.append(line[0])\n",
    "        copy_list.append(line[1])\n",
    "        media_list.append(line[2])"
   ]
  },
  {
   "cell_type": "code",
   "execution_count": 4,
   "id": "5bb3cc63-84cb-40ff-bc75-ad40447d46a3",
   "metadata": {},
   "outputs": [
    {
     "name": "stdout",
     "output_type": "stream",
     "text": [
      "63\n",
      "63\n",
      "63\n"
     ]
    }
   ],
   "source": [
    "print(len(idea_list))\n",
    "print(len(copy_list))\n",
    "print(len(media_list))"
   ]
  },
  {
   "cell_type": "markdown",
   "id": "9afd558b-b292-4582-a965-04ebeb46c403",
   "metadata": {},
   "source": [
    "### Create training examples"
   ]
  },
  {
   "cell_type": "code",
   "execution_count": 5,
   "id": "f6ed7112-b939-41d4-9fc2-077c9c85229a",
   "metadata": {},
   "outputs": [],
   "source": [
    "# construct training examples\n",
    "example_list = []\n",
    "\n",
    "system_prompt = \"LinkedIn Post Writer for Shaw Talebi, AI educator and entrepreneur\"\n",
    "\n",
    "prompt_template = lambda idea_string : f\"\"\"Write a LinkedIn post based on the following idea:\n",
    "{idea_string}\n",
    "\n",
    "Include:\n",
    "- A compelling opening line that hooks the reader\n",
    "- Copy that expands upon the idea in valuable way\n",
    "- A call to action or share relevant content\n",
    "\n",
    "Output:\n",
    "\"\"\"\n",
    "\n",
    "for i in range(len(idea_list)):    \n",
    "    system_dict = {\"role\": \"system\", \"content\": system_prompt}\n",
    "    user_dict = {\"role\": \"user\", \"content\": prompt_template(idea_list[i])}\n",
    "    assistant_dict = {\"role\": \"assistant\", \"content\": copy_list[i] + \"\\n\\n--\\nMedia: \" + media_list[i]}\n",
    "    \n",
    "    messages_list = [system_dict, user_dict, assistant_dict]\n",
    "    \n",
    "    example_list.append({\"messages\": messages_list})"
   ]
  },
  {
   "cell_type": "code",
   "execution_count": 6,
   "id": "1c847ac6-89de-413f-a7c4-854e9a514658",
   "metadata": {},
   "outputs": [
    {
     "name": "stdout",
     "output_type": "stream",
     "text": [
      "LinkedIn Post Writer for Shaw Talebi, AI educator and entrepreneur\n",
      "Write a LinkedIn post based on the following idea:\n",
      "3 types of AI Tik Tok\n",
      "\n",
      "Include:\n",
      "- A compelling opening line that hooks the reader\n",
      "- Copy that expands upon the idea in valuable way\n",
      "- A call to action or share relevant content\n",
      "\n",
      "Output:\n",
      "\n",
      "A problem with AI today is that it means different things to different people. \n",
      "\n",
      "This framework from Andrej Karpathy helped give me much more clarity 👇 \n",
      "\n",
      "Software 1.0 = Rule-based software systems. Humans program computers to solve problems step-by-step. \n",
      "\n",
      "Software 2.0 = Computers program themselves by seeing examples (i.e. machine learning) \n",
      "\n",
      "Software 3.0 = Repurposing general-purpose ML models for specific use cases (i.e. GenAI + Foundation Models) \n",
      "\n",
      "But… what’s Software 4.0 going to be? 🤔\n",
      "\n",
      "--\n",
      "Media: Video\n"
     ]
    }
   ],
   "source": [
    "print(example_list[0]['messages'][0]['content'])\n",
    "print(example_list[0]['messages'][1]['content'])\n",
    "print(example_list[0]['messages'][2]['content'])"
   ]
  },
  {
   "cell_type": "code",
   "execution_count": 7,
   "id": "daa80954-4589-4850-8b69-b2427828247b",
   "metadata": {},
   "outputs": [
    {
     "data": {
      "text/plain": [
       "63"
      ]
     },
     "execution_count": 7,
     "metadata": {},
     "output_type": "execute_result"
    }
   ],
   "source": [
    "len(example_list)"
   ]
  },
  {
   "cell_type": "markdown",
   "id": "39301b03-69be-4f2c-b7fd-44e17a22be2a",
   "metadata": {},
   "source": [
    "### Create train/validation split"
   ]
  },
  {
   "cell_type": "code",
   "execution_count": 8,
   "id": "6d43a2f6-b5b8-40c6-92c9-f4ac00c35643",
   "metadata": {},
   "outputs": [],
   "source": [
    "# randomly pick out validation examples\n",
    "num_examples = 15\n",
    "validation_index_list = random.sample(range(0, len(example_list)-1), num_examples)\n",
    "validation_data_list = [example_list[index] for index in validation_index_list]\n",
    "\n",
    "for example in validation_data_list:\n",
    "    example_list.remove(example)"
   ]
  },
  {
   "cell_type": "code",
   "execution_count": 9,
   "id": "7bf38b30-6c4e-4956-96e6-b7bc5f92423f",
   "metadata": {},
   "outputs": [
    {
     "name": "stdout",
     "output_type": "stream",
     "text": [
      "48\n",
      "15\n"
     ]
    }
   ],
   "source": [
    "print(len(example_list))\n",
    "print(len(validation_data_list))"
   ]
  },
  {
   "cell_type": "code",
   "execution_count": 10,
   "id": "09999da1-e0a4-4bee-949d-c31006dad700",
   "metadata": {},
   "outputs": [],
   "source": [
    "# write examples to file\n",
    "with open('data/train-data.jsonl', 'w') as train_file:\n",
    "    for example in example_list:\n",
    "        json.dump(example, train_file)\n",
    "        train_file.write('\\n')\n",
    "\n",
    "with open('data/valid-data.jsonl', 'w') as valid_file:\n",
    "    for example in validation_data_list:\n",
    "        json.dump(example, valid_file)\n",
    "        valid_file.write('\\n')"
   ]
  },
  {
   "cell_type": "markdown",
   "id": "ce1eb41d-f61b-493e-b2dc-1abc458ba9a4",
   "metadata": {},
   "source": [
    "### Upload data to OpenAI"
   ]
  },
  {
   "cell_type": "code",
   "execution_count": 11,
   "id": "4f3ff2b6-7530-48f9-837b-86000d7f72c6",
   "metadata": {},
   "outputs": [],
   "source": [
    "train_file = client.files.create(\n",
    "  file = open(\"data/train-data.jsonl\", \"rb\"),\n",
    "  purpose = \"fine-tune\"\n",
    ")\n",
    "\n",
    "valid_file = client.files.create(\n",
    "  file = open(\"data/valid-data.jsonl\", \"rb\"),\n",
    "  purpose = \"fine-tune\"\n",
    ")"
   ]
  },
  {
   "cell_type": "markdown",
   "id": "d753629d-45e5-4d0f-b0bd-0bef1c51062c",
   "metadata": {},
   "source": [
    "### Fine-tune model"
   ]
  },
  {
   "cell_type": "code",
   "execution_count": 12,
   "id": "88425464-a1ec-4230-a025-19f9a848a73a",
   "metadata": {},
   "outputs": [
    {
     "data": {
      "text/plain": [
       "FineTuningJob(id='ftjob-6cvQXjMkHQlpxRO4K9zw1DoI', created_at=1746137909, error=Error(code=None, message=None, param=None), fine_tuned_model=None, finished_at=None, hyperparameters=Hyperparameters(batch_size='auto', learning_rate_multiplier=1.25, n_epochs=3), model='gpt-4o-mini-2024-07-18', object='fine_tuning.job', organization_id='org-KjWERyZ9WLUqIdrdMeJh4zC0', result_files=[], seed=601268377, status='validating_files', trained_tokens=None, training_file='file-GhxAiVpuMtCqZURvJGyo8W', validation_file='file-5eVsX9qZzTjfZQZxky7BGc', estimated_finish=None, integrations=[], metadata=None, method=Method(dpo=None, supervised=MethodSupervised(hyperparameters=MethodSupervisedHyperparameters(batch_size='auto', learning_rate_multiplier=1.25, n_epochs=3)), type='supervised'), user_provided_suffix='LI-post-writer', usage_metrics=None, shared_with_openai=False)"
      ]
     },
     "execution_count": 12,
     "metadata": {},
     "output_type": "execute_result"
    }
   ],
   "source": [
    "client.fine_tuning.jobs.create(\n",
    "    training_file = train_file.id,\n",
    "    validation_file = valid_file.id,\n",
    "    suffix = \"LI-post-writer\",\n",
    "    model = \"gpt-4o-mini-2024-07-18\",\n",
    "    method={\n",
    "    \"type\": \"supervised\",\n",
    "    \"supervised\": {\n",
    "      \"hyperparameters\": {\n",
    "        \"n_epochs\": 3,\n",
    "        \"learning_rate_multiplier\": 1.25\n",
    "            }\n",
    "        }\n",
    "    }\n",
    ")"
   ]
  },
  {
   "cell_type": "markdown",
   "id": "3c650e56-77a0-4a76-a52e-6d9194fb6278",
   "metadata": {},
   "source": [
    "### Evaluate fine-tuned model"
   ]
  },
  {
   "cell_type": "code",
   "execution_count": 14,
   "id": "dd26bc6e-7bee-45f2-88a2-e419de0fb762",
   "metadata": {
    "jupyter": {
     "source_hidden": true
    }
   },
   "outputs": [],
   "source": [
    "def generate_post(system_prompt, model_name, idea):\n",
    "    response = client.chat.completions.create(\n",
    "        model=model_name,\n",
    "        messages=[\n",
    "        {\"role\": \"system\", \"content\": system_prompt},\n",
    "        {\"role\": \"user\", \"content\": prompt_template(idea)}\n",
    "        ],\n",
    "        temperature=1,\n",
    "    )\n",
    "    return response.choices[0].message.content"
   ]
  },
  {
   "cell_type": "code",
   "execution_count": 19,
   "id": "7f5b4455-b219-4fee-95ec-d99ab052acbd",
   "metadata": {},
   "outputs": [],
   "source": [
    "idea = \"10 AI buzzwords explained for Entrepreneurs\""
   ]
  },
  {
   "cell_type": "code",
   "execution_count": 20,
   "id": "17be2632-d9ee-44b9-9569-19e274f0709f",
   "metadata": {},
   "outputs": [
    {
     "name": "stdout",
     "output_type": "stream",
     "text": [
      "🔍 Ever felt lost in the sea of AI jargon? 🤖 As entrepreneurs, understanding AI terms isn't just beneficial—it's essential for staying ahead.\n",
      "\n",
      "Let's demystify 10 commonly used AI buzzwords that can transform your business strategies:\n",
      "\n",
      "1. **Machine Learning**: Think of it as teaching computers to learn patterns from data to make informed decisions. It’s like training a chef who gets better with every dish they serve.\n",
      "\n",
      "2. **Deep Learning**: A subset of machine learning using neural networks with vast layers; it analyzes high-dimensional data complexity. Picture it as the brain of AI—intense, sophisticated, and incredibly capable.\n",
      "\n",
      "3. **Neural Networks**: Inspired by the human brain's network, these are systems of algorithms used to identify relationships in sets of data through a process that mimics human thought.\n",
      "\n",
      "4. **Natural Language Processing (NLP)**: The interaction between AI and human language. It enables systems to read, decipher, and understand our language. Think of it like having a personal translator who’s always learning.\n",
      "\n",
      "5. **Computer Vision**: It empowers machines to interpret and make decisions based on visual data from the world. Imagine your computer ‘seeing’ and understanding images as we do.\n",
      "\n",
      "6. **Robotic Process Automation (RPA)**: Automated business processes through software bots, allowing human focus on tasks that add uniquely human value. Consider it as having a highly efficient digital workforce.\n",
      "\n",
      "7. **Predictive Analytics**: Utilizes historical data to forecast future events, making it your crystal ball for business planning and risk management.\n",
      "\n",
      "8. **Cognitive Computing**: AI systems that mimic human-like thinking to solve complex problems. It’s akin to having a wise consultant who never sleeps.\n",
      "\n",
      "9. **Augmented Reality (AR)**: Overlays digital information onto the real world, enhancing user experiences and engagement. Think of it as a bridge between the imagination and reality.\n",
      "\n",
      "10. **Blockchain and AI**: Integrating AI with blockchain can enhance transparency and security in data exchange processes. Imagine it as a vault safeguarding your AI insights.\n",
      "\n",
      "Harnessing these concepts doesn’t just revolutionize how you work—it propels you into future-ready strategies.\n",
      "\n",
      "✨ Curious to see these in action? Let me know which buzzword has piqued your interest, and I’ll share examples of how businesses are leveraging these innovations. \n",
      "\n",
      "#AI #Entrepreneurship #TechTrends #Innovation #DigitalTransformation\n"
     ]
    }
   ],
   "source": [
    "# GPT-4o (no fine-tuning)\n",
    "model_name = \"gpt-4o\"\n",
    "system_prompt_long = \"You are an AI assistant helping Shaw Talebi, an AI educator and entrepreneur, craft LinkedIn posts. Your goal is to generate posts \\\n",
    "that reflect Shaw Talebi's voice: authoritative yet approachable, insightful yet concise. Shaw Talebi's posts aim to educate and inspire professionals \\\n",
    "in the tech and AI space. Focus on providing value, discussing new trends, or offering actionable advice, while keeping the tone professional but \\\n",
    "conversational. The target audience includes entrepreneurs, tech professionals, and decision-makers in AI and data science. Always ensure the post is \\\n",
    "relevant, engaging, and on-brand for Shaw Talebi's public persona.\"\n",
    "\n",
    "# print(system_prompt_long, \"\\n--\")\n",
    "print(generate_post(system_prompt_long, model_name, idea))"
   ]
  },
  {
   "cell_type": "code",
   "execution_count": 21,
   "id": "5cc2e3fb-a692-47eb-87e8-4e9ae788f0ac",
   "metadata": {},
   "outputs": [
    {
     "name": "stdout",
     "output_type": "stream",
     "text": [
      "Can we ever really cut through the jargon of new technologies? \n",
      "\n",
      "Here are 10 AI buzzwords that I have defined (for myself) over the last year… \n",
      "\n",
      "1) Foundation Model: A large AI model that has been trained on a general task and can be customized for specific applications using “fine-tuning”.\n",
      "\n",
      "2) Fine-tuning: The process of updating a foundation model’s weights using domain-specific data. This process tends to yield better performance than using domain data alone.\n",
      "\n",
      "3) Inference: The process of using the output of a trained model to make predictions on new data. \n",
      "\n",
      "4) Instruction-tuning: The process of fine-tuning an LLM on instruction ↔ response data. This is what makes LLMs good at following human instructions. \n",
      "\n",
      "5) Embedding: A vector representation of data (text, image, etc.). This representation captures semantic similarities between data points. \n",
      "\n",
      "6) Prompt / Prompt engineering: A prompt is the input to an LLM or an LLM product (ex. ChatGPT). Prompt engineering is the process of crafting prompts to elicit a desired response from an LLM.\n",
      "\n",
      "7) Retrieval-Augmented Generation (RAG): A method of using LLMs where the model retrieves context or information from a knowledge base and then uses that information to generate a response. \n",
      "\n",
      "8) Memory: Any information that an LLM retains after a prompt or set of prompts. Progress in AI has come primarily from improving memory (e.g., RLHF, context windows, LLM memories).\n",
      "\n",
      "9) Multimodal: Refers to model inputs and/or outputs that contain more than one “modality” (e.g. text, image, tabular data, etc.). \n",
      "\n",
      "10) Agents: A class of LLM applications where the model is allowed to iterate and make modifications to its code to achieve a goal.\n",
      "\n",
      "What other terms would you add to this list? \n",
      "\n",
      "--\n",
      "Media: Image\n"
     ]
    }
   ],
   "source": [
    "# GPT-4o-mini (fine-tuned)\n",
    "model_name = \"ft:gpt-4o-mini-2024-07-18:shawhin-talebi-ventures-llc:li-post-writer:BSWitilL\"\n",
    "\n",
    "# print(system_prompt, \"\\n--\")\n",
    "print(generate_post(system_prompt, model_name, idea))"
   ]
  },
  {
   "cell_type": "code",
   "execution_count": 23,
   "id": "55c2cd55-477e-464f-8480-f9e354fb4341",
   "metadata": {},
   "outputs": [],
   "source": [
    "# # delete files (after fine-tuning is done)\n",
    "# client.files.delete(train_file.id)\n",
    "# client.files.delete(valid_file.id)"
   ]
  },
  {
   "cell_type": "code",
   "execution_count": null,
   "id": "a800f0c3-3d4c-4b41-b0fd-c63db0d01622",
   "metadata": {},
   "outputs": [],
   "source": []
  }
 ],
 "metadata": {
  "kernelspec": {
   "display_name": "Python 3 (ipykernel)",
   "language": "python",
   "name": "python3"
  },
  "language_info": {
   "codemirror_mode": {
    "name": "ipython",
    "version": 3
   },
   "file_extension": ".py",
   "mimetype": "text/x-python",
   "name": "python",
   "nbconvert_exporter": "python",
   "pygments_lexer": "ipython3",
   "version": "3.12.10"
  }
 },
 "nbformat": 4,
 "nbformat_minor": 5
}
